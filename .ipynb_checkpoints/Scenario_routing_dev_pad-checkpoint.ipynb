{
 "cells": [
  {
   "cell_type": "markdown",
   "metadata": {},
   "source": [
    "## Importing scenario"
   ]
  },
  {
   "cell_type": "code",
   "execution_count": 1,
   "metadata": {},
   "outputs": [],
   "source": [
    "import carla\n",
    "import matplotlib.pyplot as plt\n",
    "import networkx as nx\n",
    "\n",
    "%matplotlib inline"
   ]
  },
  {
   "cell_type": "code",
   "execution_count": 2,
   "metadata": {},
   "outputs": [],
   "source": [
    "client = carla.Client('localhost', 2000)"
   ]
  },
  {
   "cell_type": "code",
   "execution_count": 3,
   "metadata": {},
   "outputs": [],
   "source": [
    "world = client.get_world()"
   ]
  },
  {
   "cell_type": "code",
   "execution_count": 4,
   "metadata": {},
   "outputs": [],
   "source": [
    "world_map = world.get_map()"
   ]
  },
  {
   "cell_type": "code",
   "execution_count": 5,
   "metadata": {},
   "outputs": [
    {
     "data": {
      "image/png": "[encoded data removed]",
      "text/plain": [
       "<Figure size 432x288 with 1 Axes>"
      ]
     },
     "metadata": {
      "needs_background": "light"
     },
     "output_type": "display_data"
    }
   ],
   "source": [
    "topology = world_map.get_topology()\n",
    "for segment in topology:\n",
    "    x1, y1 = segment[0].transform.location.x, segment[0].transform.location.y\n",
    "    x2, y2 = segment[1].transform.location.x, segment[1].transform.location.y\n",
    "    x1, x2 = -x1, -x2\n",
    "    plt.plot([x1, x2], [y1, y2], marker = 'o')\n",
    "plt.show()"
   ]
  },
  {
   "cell_type": "code",
   "execution_count": 6,
   "metadata": {},
   "outputs": [],
   "source": [
    "topology = world_map.get_topology()\n",
    "toplist = []\n",
    "for segment in topology:\n",
    "    x1, y1 = segment[0].transform.location.x, segment[0].transform.location.y\n",
    "    x2, y2 = segment[1].transform.location.x, segment[1].transform.location.y\n",
    "    toplist.append([(x1,y1),(x2,y2)])"
   ]
  },
  {
   "cell_type": "code",
   "execution_count": 7,
   "metadata": {
    "scrolled": true
   },
   "outputs": [
    {
     "data": {
      "text/plain": [
       "160"
      ]
     },
     "execution_count": 7,
     "metadata": {},
     "output_type": "execute_result"
    }
   ],
   "source": [
    "len(world_map.get_topology())"
   ]
  },
  {
   "cell_type": "code",
   "execution_count": 8,
   "metadata": {},
   "outputs": [],
   "source": [
    "import sys\n",
    "sys.path.append('/home/praveen/workspace/carla/PythonAPI/agents/navigation/')"
   ]
  },
  {
   "cell_type": "code",
   "execution_count": 9,
   "metadata": {},
   "outputs": [],
   "source": [
    "from global_route_planner import GlobalRoutePlanner\n",
    "from global_route_planner_dao import GlobalRoutePlannerDAO\n",
    "\n",
    "dao = GlobalRoutePlannerDAO(world_map)\n",
    "grp = GlobalRoutePlanner(dao)\n",
    "grp.setup()"
   ]
  },
  {
   "cell_type": "code",
   "execution_count": 10,
   "metadata": {},
   "outputs": [
    {
     "data": {
      "text/plain": [
       "[69, 70, 52, 25, 26, 29, 31, 4, 1, 41, 37, 38]"
      ]
     },
     "execution_count": 10,
     "metadata": {},
     "output_type": "execute_result"
    }
   ],
   "source": [
    "nx.shortest_path(grp._graph, 69, 38, weight='length')\n",
    "\n",
    "# nx.shortest_path(grp.graph, 222, 118, weight='length')"
   ]
  },
  {
   "cell_type": "code",
   "execution_count": 11,
   "metadata": {},
   "outputs": [
    {
     "data": {
      "text/plain": [
       "[69, 70, 52, 25, 26, 29, 31, 4, 1, 41, 37, 38]"
      ]
     },
     "execution_count": 11,
     "metadata": {},
     "output_type": "execute_result"
    }
   ],
   "source": [
    "grp.path_search((360, -2.2), (88.4, 164))\n",
    "\n",
    "# grp.path_search((196.947, -5.602), (78.730, -50.091))"
   ]
  },
  {
   "cell_type": "code",
   "execution_count": 12,
   "metadata": {},
   "outputs": [
    {
     "data": {
      "text/plain": [
       "[<NavEnum.START: 'START'>,\n",
       " <NavEnum.LEFT: 'LEFT'>,\n",
       " <NavEnum.RIGHT: 'RIGHT'>,\n",
       " <NavEnum.GO_STRAIGHT: 'GO_STRAIGHT'>,\n",
       " <NavEnum.LEFT: 'LEFT'>,\n",
       " <NavEnum.GO_STRAIGHT: 'GO_STRAIGHT'>,\n",
       " <NavEnum.STOP: 'STOP'>]"
      ]
     },
     "execution_count": 12,
     "metadata": {},
     "output_type": "execute_result"
    }
   ],
   "source": [
    "grp.plan_route((360, -2.2), (88.4, 164))\n",
    "\n",
    "# grp.plan_route((360, -2.2), (88.4, 164))\n",
    "# grp.plan_route((196.947, -5.602), (78.730, -50.091))"
   ]
  },
  {
   "cell_type": "code",
   "execution_count": 14,
   "metadata": {},
   "outputs": [
    {
     "data": {
      "text/plain": [
       "[196,\n",
       " 98,\n",
       " 99,\n",
       " 106,\n",
       " 107,\n",
       " 100,\n",
       " 104,\n",
       " 244,\n",
       " 145,\n",
       " 144,\n",
       " 135,\n",
       " 139,\n",
       " 242,\n",
       " 171,\n",
       " 172,\n",
       " 240,\n",
       " 14,\n",
       " 15,\n",
       " 96,\n",
       " 97,\n",
       " 193,\n",
       " 194,\n",
       " 27,\n",
       " 28,\n",
       " 23,\n",
       " 24,\n",
       " 306,\n",
       " 300,\n",
       " 197]"
      ]
     },
     "execution_count": 14,
     "metadata": {},
     "output_type": "execute_result"
    }
   ],
   "source": [
    "xo, yo = -55, 3\n",
    "xd, yd = -77.664, 72.72\n",
    "grp.path_search((xo, yo), (xd, yd))"
   ]
  },
  {
   "cell_type": "code",
   "execution_count": 12,
   "metadata": {},
   "outputs": [
    {
     "data": {
      "text/plain": [
       "['START',\n",
       " 'GO_STRAIGHT',\n",
       " 'LEFT',\n",
       " 'RIGHT',\n",
       " 'FOLLOW_LANE',\n",
       " 'RIGHT',\n",
       " 'RIGHT',\n",
       " 'FOLLOW_LANE',\n",
       " 'RIGHT',\n",
       " 'FOLLOW_LANE',\n",
       " 'RIGHT',\n",
       " 'RIGHT',\n",
       " 'LEFT',\n",
       " 'RIGHT',\n",
       " 'GO_STRAIGHT',\n",
       " 'RIGHT',\n",
       " 'STOP']"
      ]
     },
     "execution_count": 12,
     "metadata": {},
     "output_type": "execute_result"
    }
   ],
   "source": [
    "xo, yo = -53.004, 2.886\n",
    "xd, yd = -77.664, 72.72\n",
    "grp.plan_route((xo, yo), (xd, yd))"
   ]
  },
  {
   "cell_type": "code",
   "execution_count": null,
   "metadata": {},
   "outputs": [],
   "source": [
    "w1, w2 = topology[6]\n",
    "w = w1\n",
    "wd = w2\n",
    "count = 0\n",
    "print('Intersection start and end ?', w1.is_intersection, w2.is_intersection)\n",
    "while True:\n",
    "    w = w.next(1)[0]\n",
    "    print('Is intersection ?', w.is_intersection)\n",
    "    if w.transform.location.distance(wd.transform.location) < 1:\n",
    "        print('Found destination !')\n",
    "        break\n",
    "    if count < 10000:\n",
    "        count += 1\n",
    "    else:\n",
    "        print('Could not reach end')\n",
    "        break"
   ]
  },
  {
   "cell_type": "code",
   "execution_count": null,
   "metadata": {},
   "outputs": [],
   "source": [
    "grp.graph.edges[3, 257]"
   ]
  },
  {
   "cell_type": "code",
   "execution_count": null,
   "metadata": {},
   "outputs": [],
   "source": [
    "w.is_intersection"
   ]
  },
  {
   "cell_type": "code",
   "execution_count": null,
   "metadata": {},
   "outputs": [],
   "source": [
    "w.next(1)"
   ]
  },
  {
   "cell_type": "code",
   "execution_count": null,
   "metadata": {},
   "outputs": [],
   "source": [
    "# w = world_map.get_waypoint(carla.Location(x=120, y=1.68, z=0))"
   ]
  },
  {
   "cell_type": "code",
   "execution_count": null,
   "metadata": {},
   "outputs": [],
   "source": [
    "xo, yo = 120, -2.27\n",
    "xd, yd = 334.7, 165\n",
    "heading = (1, 0)\n",
    "start = grp.localise(xo, yo, toplist)\n",
    "end= grp.localise(xd, yd, grp.topology)\n",
    "start = grp.align(start, grp.get_direction(start))\n",
    "end = grp.align(end, grp.get_direction(end))\n",
    "\n",
    "graph, idmap = grp.build_graph()\n",
    "route = nx.shortest_path(graph, idmap[start[0]], idmap[end[1]])\n",
    "route"
   ]
  },
  {
   "cell_type": "code",
   "execution_count": null,
   "metadata": {
    "scrolled": false
   },
   "outputs": [],
   "source": [
    "for i in range(1, len(route)):\n",
    "    x1, y1 = graph.nodes[route[i-1]]['vertex']\n",
    "    x2, y2 = graph.nodes[route[i]]['vertex']\n",
    "    plt.plot([x1, x2], [y1, y2], marker = 'o')\n",
    "plt.show()"
   ]
  },
  {
   "cell_type": "code",
   "execution_count": null,
   "metadata": {},
   "outputs": [],
   "source": [
    "grp.plan_route((xo, yo), heading, (xd, yd), graph, idmap, toplist)"
   ]
  }
 ],
 "metadata": {
  "kernelspec": {
   "display_name": "Python 2",
   "language": "python",
   "name": "python2"
  },
  "language_info": {
   "codemirror_mode": {
    "name": "ipython",
    "version": 2
   },
   "file_extension": ".py",
   "mimetype": "text/x-python",
   "name": "python",
   "nbconvert_exporter": "python",
   "pygments_lexer": "ipython2",
   "version": "2.7.15"
  }
 },
 "nbformat": 4,
 "nbformat_minor": 2
}
