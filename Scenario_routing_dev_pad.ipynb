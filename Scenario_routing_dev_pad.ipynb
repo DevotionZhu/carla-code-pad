{
 "cells": [
  {
   "cell_type": "markdown",
   "metadata": {},
   "source": [
    "## Importing scenario"
   ]
  },
  {
   "cell_type": "code",
   "execution_count": 1,
   "metadata": {},
   "outputs": [],
   "source": [
    "import glob\n",
    "import os\n",
    "import sys\n",
    "\n",
    "import carla\n",
    "import numpy as np\n",
    "import matplotlib.pyplot as plt\n",
    "from matplotlib import collections  as mc\n",
    "\n",
    "%matplotlib inline"
   ]
  },
  {
   "cell_type": "code",
   "execution_count": 2,
   "metadata": {},
   "outputs": [],
   "source": [
    "client = carla.Client('localhost', 2000)"
   ]
  },
  {
   "cell_type": "code",
   "execution_count": 3,
   "metadata": {},
   "outputs": [],
   "source": [
    "world = client.get_world()"
   ]
  },
  {
   "cell_type": "code",
   "execution_count": 4,
   "metadata": {},
   "outputs": [],
   "source": [
    "world_map = world.get_map()"
   ]
  },
  {
   "cell_type": "code",
   "execution_count": 5,
   "metadata": {},
   "outputs": [
    {
     "data": {
      "image/png": "[encoded data removed]",
      "text/plain": [
       "<Figure size 432x288 with 1 Axes>"
      ]
     },
     "metadata": {
      "needs_background": "light"
     },
     "output_type": "display_data"
    }
   ],
   "source": [
    "topology = world_map.get_topology()\n",
    "for segment in topology:\n",
    "    x1, y1 = segment[0].transform.location.x, segment[0].transform.location.y\n",
    "    x2, y2 = segment[1].transform.location.x, segment[1].transform.location.y\n",
    "    plt.plot([x1, x2], [y1, y2], marker = 'o')\n",
    "plt.show()"
   ]
  },
  {
   "cell_type": "code",
   "execution_count": 6,
   "metadata": {},
   "outputs": [],
   "source": [
    "topology = world_map.get_topology()\n",
    "toplist = []\n",
    "for segment in topology:\n",
    "    x1, y1 = segment[0].transform.location.x, segment[0].transform.location.y\n",
    "    x2, y2 = segment[1].transform.location.x, segment[1].transform.location.y\n",
    "    toplist.append([(x1,y1),(x2,y2)])"
   ]
  },
  {
   "cell_type": "code",
   "execution_count": 7,
   "metadata": {
    "scrolled": true
   },
   "outputs": [
    {
     "data": {
      "text/plain": [
       "160"
      ]
     },
     "execution_count": 7,
     "metadata": {},
     "output_type": "execute_result"
    }
   ],
   "source": [
    "len(world_map.get_topology())"
   ]
  },
  {
   "cell_type": "code",
   "execution_count": 8,
   "metadata": {},
   "outputs": [],
   "source": [
    "import sys\n",
    "sys.path.append('/home/praveen/programs/scenario_runner/')"
   ]
  },
  {
   "cell_type": "code",
   "execution_count": 9,
   "metadata": {},
   "outputs": [],
   "source": [
    "from navigation.pathrouting.global_route_planner import GlobalRoutePlanner\n",
    "grp = GlobalRoutePlanner(world)"
   ]
  },
  {
   "cell_type": "code",
   "execution_count": 10,
   "metadata": {},
   "outputs": [],
   "source": [
    "# w = world_map.get_waypoint(carla.Location(x=120, y=1.68, z=0))"
   ]
  },
  {
   "cell_type": "code",
   "execution_count": 11,
   "metadata": {},
   "outputs": [
    {
     "data": {
      "text/plain": [
       "[10, 12, 13, 49, 80, 81, 84, 85, 69, 70, 73, 74, 63, 65]"
      ]
     },
     "execution_count": 11,
     "metadata": {},
     "output_type": "execute_result"
    }
   ],
   "source": [
    "xo, yo = 110, -2.27\n",
    "# xd, yd = 334.7, 100\n",
    "# xd, yd = 130, 133\n",
    "xd, yd = 334.7, 165\n",
    "heading = (1, 0)\n",
    "\n",
    "start = grp.localise(xo, yo, toplist, heading)\n",
    "end= grp.localise(xd, yd, grp.topology)\n",
    "graph, idmap = grp.build_graph(toplist)\n",
    "route = grp.graph_search(start, end, graph, idmap)\n",
    "\n",
    "route"
   ]
  },
  {
   "cell_type": "code",
   "execution_count": 12,
   "metadata": {
    "scrolled": false
   },
   "outputs": [
    {
     "data": {
      "image/png": "[encoded data removed]",
      "text/plain": [
       "<Figure size 432x288 with 1 Axes>"
      ]
     },
     "metadata": {
      "needs_background": "light"
     },
     "output_type": "display_data"
    }
   ],
   "source": [
    "for i in range(1, len(route)):\n",
    "    x1, y1 = graph[route[i-1]].vertex\n",
    "    x2, y2 = graph[route[i]].vertex\n",
    "    plt.plot([x1, x2], [y1, y2], marker = 'o')\n",
    "plt.show()"
   ]
  },
  {
   "cell_type": "code",
   "execution_count": 13,
   "metadata": {},
   "outputs": [
    {
     "data": {
      "text/plain": [
       "['START',\n",
       " 'GO_STRAIGHT',\n",
       " 'GO_STRAIGHT',\n",
       " 'LEFT',\n",
       " 'LEFT',\n",
       " 'LEFT',\n",
       " 'GO_STRAIGHT',\n",
       " 'STOP']"
      ]
     },
     "execution_count": 13,
     "metadata": {},
     "output_type": "execute_result"
    }
   ],
   "source": [
    "grp.plan_route((xo, yo), heading, (xd, yd), graph, idmap, toplist)"
   ]
  }
 ],
 "metadata": {
  "kernelspec": {
   "display_name": "Python 2",
   "language": "python",
   "name": "python2"
  },
  "language_info": {
   "codemirror_mode": {
    "name": "ipython",
    "version": 2
   },
   "file_extension": ".py",
   "mimetype": "text/x-python",
   "name": "python",
   "nbconvert_exporter": "python",
   "pygments_lexer": "ipython2",
   "version": "2.7.15"
  }
 },
 "nbformat": 4,
 "nbformat_minor": 2
}
