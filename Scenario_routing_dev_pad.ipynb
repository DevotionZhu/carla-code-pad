{
 "cells": [
  {
   "cell_type": "markdown",
   "metadata": {},
   "source": [
    "## Importing scenario"
   ]
  },
  {
   "cell_type": "code",
   "execution_count": 1,
   "metadata": {},
   "outputs": [],
   "source": [
    "import sys\n",
    "sys.path.append('/home/praveen/workspace/carla/PythonAPI/agents/navigation/')\n",
    "import carla\n",
    "import matplotlib.pyplot as plt\n",
    "import networkx as nx\n",
    "from local_planner import RoadOption\n",
    "\n",
    "%matplotlib inline"
   ]
  },
  {
   "cell_type": "code",
   "execution_count": 2,
   "metadata": {},
   "outputs": [],
   "source": [
    "client = carla.Client('localhost', 2000)"
   ]
  },
  {
   "cell_type": "code",
   "execution_count": 3,
   "metadata": {},
   "outputs": [],
   "source": [
    "world = client.get_world()"
   ]
  },
  {
   "cell_type": "code",
   "execution_count": 4,
   "metadata": {},
   "outputs": [],
   "source": [
    "world_map = world.get_map()"
   ]
  },
  {
   "cell_type": "code",
   "execution_count": null,
   "metadata": {},
   "outputs": [],
   "source": [
    "topology = world_map.get_topology()\n",
    "for segment in topology:\n",
    "    x1, y1 = segment[0].transform.location.x, segment[0].transform.location.y\n",
    "    x2, y2 = segment[1].transform.location.x, segment[1].transform.location.y\n",
    "    x1, x2 = -x1, -x2\n",
    "    plt.plot([x1, x2], [y1, y2], marker = 'o')\n",
    "plt.show()"
   ]
  },
  {
   "cell_type": "code",
   "execution_count": null,
   "metadata": {},
   "outputs": [],
   "source": [
    "topology = world_map.get_topology()\n",
    "toplist = []\n",
    "for segment in topology:\n",
    "    x1, y1 = segment[0].transform.location.x, segment[0].transform.location.y\n",
    "    x2, y2 = segment[1].transform.location.x, segment[1].transform.location.y\n",
    "    toplist.append([(x1,y1),(x2,y2)])"
   ]
  },
  {
   "cell_type": "code",
   "execution_count": null,
   "metadata": {
    "scrolled": true
   },
   "outputs": [],
   "source": [
    "len(world_map.get_topology())"
   ]
  },
  {
   "cell_type": "code",
   "execution_count": 5,
   "metadata": {
    "scrolled": false
   },
   "outputs": [],
   "source": [
    "from global_route_planner import GlobalRoutePlanner\n",
    "from global_route_planner_dao import GlobalRoutePlannerDAO\n",
    "\n",
    "dao = GlobalRoutePlannerDAO(world_map)\n",
    "grp = GlobalRoutePlanner(dao)\n",
    "# grp.setup()"
   ]
  },
  {
   "cell_type": "code",
   "execution_count": 6,
   "metadata": {},
   "outputs": [
    {
     "name": "stderr",
     "output_type": "stream",
     "text": [
      "/home/praveen/workspace/carla/PythonAPI/agents/tools/misc.py:103: RuntimeWarning: invalid value encountered in double_scalars\n",
      "  return [x / norm, y / norm, z / norm]\n"
     ]
    }
   ],
   "source": [
    "grp.setup()"
   ]
  },
  {
   "cell_type": "code",
   "execution_count": null,
   "metadata": {},
   "outputs": [],
   "source": [
    "test_wp = world_map.get_waypoint(carla.Location(405.97, -114.60))\n",
    "test_wp.get_left_lane()\n",
    "test_wp.lane_change & carla.LaneChange.Right"
   ]
  },
  {
   "cell_type": "code",
   "execution_count": 7,
   "metadata": {},
   "outputs": [],
   "source": [
    "def draw_path(path):\n",
    "    for i in range(len(path) - 1):\n",
    "        v1, v2 = path[i], path[i+1]\n",
    "        x1, y1, _ = grp._graph.nodes[v1]['vertex']\n",
    "        x2, y2, _ = grp._graph.nodes[v2]['vertex']\n",
    "        x1, x2 = -x1, -x2\n",
    "        plt.plot([x1, x2], [y1, y2], color = 'blue')\n",
    "        plt.arrow(\n",
    "            x1, y1, ((x2+x1)/2 - x1), ((y2+y1)/2 - y1),\n",
    "            shape='full', lw=0, length_includes_head=True, head_width=20)\n",
    "    plt.show()"
   ]
  },
  {
   "cell_type": "code",
   "execution_count": null,
   "metadata": {},
   "outputs": [],
   "source": [
    "nx.shortest_path(grp._graph, 243, 272, weight='length')\n",
    "\n",
    "# nx.shortest_path(grp.graph, 222, 118, weight='length')"
   ]
  },
  {
   "cell_type": "code",
   "execution_count": 8,
   "metadata": {
    "scrolled": true
   },
   "outputs": [
    {
     "name": "stdout",
     "output_type": "stream",
     "text": [
      "[47, 244, 248, 249, 400, 403, 380, 379, 78, 79, 81, 182, 180, 173, 175, 174, 199, 196, 197, 309, 416, 314, 213, 210, 211, 323, 14, 13, 114, 110, 235, 236]\n"
     ]
    },
    {
     "data": {
      "image/png": "[encoded data removed]",
      "text/plain": [
       "<Figure size 432x288 with 1 Axes>"
      ]
     },
     "metadata": {
      "needs_background": "light"
     },
     "output_type": "display_data"
    }
   ],
   "source": [
    "path = grp._path_search(carla.Location(142, 62), carla.Location(167, 72,))\n",
    "print path\n",
    "draw_path(path)\n",
    "\n",
    "# path = grp._path_search(carla.Location(-392.2, 40.5), carla.Location(-493.8, 212.3))\n",
    "# grp._path_search(carla.Location(405.97, -114.60), carla.Location(409, -114.31))\n",
    "# grp.path_search((196.947, -5.602), (78.730, -50.091))"
   ]
  },
  {
   "cell_type": "code",
   "execution_count": null,
   "metadata": {},
   "outputs": [],
   "source": [
    "grp._graph.nodes[123]"
   ]
  },
  {
   "cell_type": "code",
   "execution_count": null,
   "metadata": {},
   "outputs": [],
   "source": [
    "world.get_map().get_waypoint(carla.Location(244, 53)).road_id"
   ]
  },
  {
   "cell_type": "code",
   "execution_count": null,
   "metadata": {},
   "outputs": [],
   "source": [
    "loc = world.get_map().get_waypoint(carla.Location(244, 53)).get_left_lane().transform.location\n",
    "\n",
    "print loc.x, loc.y"
   ]
  },
  {
   "cell_type": "code",
   "execution_count": null,
   "metadata": {},
   "outputs": [],
   "source": [
    "grp._localize(carla.Location(240.833816528, 52.9229850769))"
   ]
  },
  {
   "cell_type": "code",
   "execution_count": null,
   "metadata": {},
   "outputs": [],
   "source": [
    "grp._graph.edges[113, 112]['entry_waypoint'].road_id"
   ]
  },
  {
   "cell_type": "code",
   "execution_count": null,
   "metadata": {},
   "outputs": [],
   "source": [
    "# grp.plan_route(carla.Location(x = 176.1, y = -375, z = 1), carla.Location(228.1, -307.7, 0))\n",
    "# grp.plan_route(carla.Location(x = 381.5, y = -121.2, z = 1), carla.Location(228.1, -307.7, 0))\n",
    "# grp.plan_route(carla.Location(-392.2, 40.5), carla.Location(-493.8, 212.3))\n",
    "# grp.plan_route(carla.Location(405.97, -114.60), carla.Location(409, -114.31))\n",
    "# grp.plan_route((360, -2.2), (88.4, 164))\n",
    "# grp.plan_route((196.947, -5.602), (78.730, -50.091))"
   ]
  },
  {
   "cell_type": "code",
   "execution_count": null,
   "metadata": {},
   "outputs": [],
   "source": [
    "xo, yo = -55, 3\n",
    "xd, yd = -77.664, 72.72\n",
    "grp.path_search((xo, yo), (xd, yd))"
   ]
  },
  {
   "cell_type": "code",
   "execution_count": null,
   "metadata": {},
   "outputs": [],
   "source": [
    "xo, yo = -53.004, 2.886\n",
    "xd, yd = -77.664, 72.72\n",
    "grp.plan_route((xo, yo), (xd, yd))"
   ]
  },
  {
   "cell_type": "code",
   "execution_count": null,
   "metadata": {},
   "outputs": [],
   "source": [
    "w1, w2 = topology[6]\n",
    "w = w1\n",
    "wd = w2\n",
    "count = 0\n",
    "print('Intersection start and end ?', w1.is_intersection, w2.is_intersection)\n",
    "while True:\n",
    "    w = w.next(1)[0]\n",
    "    print('Is intersection ?', w.is_intersection)\n",
    "    if w.transform.location.distance(wd.transform.location) < 1:\n",
    "        print('Found destination !')\n",
    "        break\n",
    "    if count < 10000:\n",
    "        count += 1\n",
    "    else:\n",
    "        print('Could not reach end')\n",
    "        break"
   ]
  },
  {
   "cell_type": "code",
   "execution_count": null,
   "metadata": {},
   "outputs": [],
   "source": [
    "grp.graph.edges[3, 257]"
   ]
  },
  {
   "cell_type": "code",
   "execution_count": null,
   "metadata": {},
   "outputs": [],
   "source": [
    "w.is_intersection"
   ]
  },
  {
   "cell_type": "code",
   "execution_count": null,
   "metadata": {},
   "outputs": [],
   "source": [
    "w.next(1)"
   ]
  },
  {
   "cell_type": "code",
   "execution_count": null,
   "metadata": {},
   "outputs": [],
   "source": [
    "# w = world_map.get_waypoint(carla.Location(x=120, y=1.68, z=0))"
   ]
  },
  {
   "cell_type": "code",
   "execution_count": null,
   "metadata": {},
   "outputs": [],
   "source": [
    "xo, yo = 120, -2.27\n",
    "xd, yd = 334.7, 165\n",
    "heading = (1, 0)\n",
    "start = grp.localise(xo, yo, toplist)\n",
    "end= grp.localise(xd, yd, grp.topology)\n",
    "start = grp.align(start, grp.get_direction(start))\n",
    "end = grp.align(end, grp.get_direction(end))\n",
    "\n",
    "graph, idmap = grp.build_graph()\n",
    "route = nx.shortest_path(graph, idmap[start[0]], idmap[end[1]])\n",
    "route"
   ]
  },
  {
   "cell_type": "code",
   "execution_count": null,
   "metadata": {
    "scrolled": false
   },
   "outputs": [],
   "source": [
    "for i in range(1, len(route)):\n",
    "    x1, y1 = graph.nodes[route[i-1]]['vertex']\n",
    "    x2, y2 = graph.nodes[route[i]]['vertex']\n",
    "    plt.plot([x1, x2], [y1, y2], marker = 'o')\n",
    "plt.show()"
   ]
  },
  {
   "cell_type": "code",
   "execution_count": null,
   "metadata": {},
   "outputs": [],
   "source": [
    "grp.plan_route((xo, yo), heading, (xd, yd), graph, idmap, toplist)"
   ]
  }
 ],
 "metadata": {
  "kernelspec": {
   "display_name": "Python 2",
   "language": "python",
   "name": "python2"
  },
  "language_info": {
   "codemirror_mode": {
    "name": "ipython",
    "version": 2
   },
   "file_extension": ".py",
   "mimetype": "text/x-python",
   "name": "python",
   "nbconvert_exporter": "python",
   "pygments_lexer": "ipython2",
   "version": "2.7.15"
  }
 },
 "nbformat": 4,
 "nbformat_minor": 2
}
